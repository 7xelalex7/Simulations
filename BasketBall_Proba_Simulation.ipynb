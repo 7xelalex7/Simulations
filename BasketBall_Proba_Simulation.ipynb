{
 "cells": [
  {
   "cell_type": "markdown",
   "metadata": {},
   "source": [
    "A few years ago, I was talking with NBA and Analytics guru and he asked me this problem:\n",
    "\n",
    "<br>\n",
    "_Let's say there is a team who you expect to win **75%** of its games in a given **82-game** NBA regular season (and the probability of winning each game = 75%).  \n",
    "If you wanted to determine the probability that the team will never lose consecutive games at any point during this 82-game season?_\n",
    "<br>\n",
    "\n",
    "Let us try to answer this question. We will used two methods. First, we will calculate the exact probability, then we will run a simulation to verify our first solution."
   ]
  },
  {
   "cell_type": "code",
   "execution_count": 24,
   "metadata": {
    "collapsed": true
   },
   "outputs": [],
   "source": [
    "import scipy.misc\n",
    "import scipy.stats\n",
    "import numpy as np\n",
    "import random\n",
    "import pandas as pd\n",
    "import time"
   ]
  },
  {
   "cell_type": "markdown",
   "metadata": {},
   "source": [
    "### Approach 1 - Stats\n",
    "\n",
    "Let us look with a simplified case.\n",
    "\n",
    "-  Let us say team is going to win exactly 75% of its game.\n",
    "    -  it means 62 Wins and 20 losses\n",
    "    -  This probaility is combin(82,62) $*$ (0.75)^(62) $*$ (0.25)^(82-62)\n",
    "-  I want to get how many combinations are possible with zero back-to-back losses. \n",
    "    -  I need to have “? W ? W ?.... ? W ?”. \n",
    "    -  I have 62 W, and I know that I can put the 20 losses whenever I want in between these 62 W. \n",
    "    -  Thus, I have 63 available spots for 20 L. The corresponding number of combinations is combin (63,20).\n",
    "- What is the total number of combinations?\n",
    "    -  82 games and have 20 losses\n",
    "- The probability of having 20 losses with no consecutives losses in a 82 game\n",
    "    -  combin (63,20) / combin (82,20)\n",
    "    \n",
    "We just have to loop from 0 to 82 wins during a regular season and get the corresponding probabilities."
   ]
  },
  {
   "cell_type": "code",
   "execution_count": 59,
   "metadata": {},
   "outputs": [],
   "source": [
    "def stat_method(number_games, proba_win):\n",
    "    \"\"\" stat_method\n",
    "    number_games = number of games played in a season\n",
    "    proba win = proba win each game \"\"\"\n",
    "    proba_tot_no_b2b = 0\n",
    "    \n",
    "    for x in range(number_games+1):\n",
    "        proba_wins = scipy.stats.binom.pmf(x, number_games, proba_win)\n",
    "        proba_no_b2b = scipy.misc.comb(x+1, number_games-x) / scipy.misc.comb(number_games, number_games-x)\n",
    "        proba_case_no_b2b = proba_wins * proba_no_b2b\n",
    "        proba_tot_no_b2b += proba_case_no_b2b\n",
    "\n",
    "    return (\"{0:.3f}%\".format(proba_tot_no_b2b*100))"
   ]
  },
  {
   "cell_type": "code",
   "execution_count": 60,
   "metadata": {},
   "outputs": [
    {
     "name": "stdout",
     "output_type": "stream",
     "text": [
      "1.291%\n"
     ]
    }
   ],
   "source": [
    "print(stat_method(82, 0.75))"
   ]
  },
  {
   "cell_type": "markdown",
   "metadata": {},
   "source": [
    "### Approach 2 - Simulations\n",
    "\n",
    "Let us look with a simplified case\n",
    "\n",
    "-  A season consists of 82 games - probability of winning each game is 0.75\n",
    "    -  I can simulation the output of the 82 games\n",
    "    -  **1 for a win, 0 for a loss**\n",
    "    - **82** _Bernouilli trials_ with a probability of success equals to **0.75**\n",
    "-  Let us look at our season\n",
    "    - Is there any _back to back losses_? \n",
    "    - If No, count 1, else count 0\n",
    "    \n",
    "We can _simulatate_ **10^6** seasons, and look how often we have season without back to back losses"
   ]
  },
  {
   "cell_type": "code",
   "execution_count": 69,
   "metadata": {},
   "outputs": [],
   "source": [
    "def simul_method(number_games, proba_win, number_season):\n",
    "    \"\"\" simul_method\n",
    "    number_games = number of games played in a season\n",
    "    proba win = proba win each game\n",
    "    number season = number season (the more the merrier) \"\"\"\n",
    "    count = 0\n",
    "    for k in range(number_season):\n",
    "        season = np.random.binomial(1, proba_win, number_games)\n",
    "        if not any((i==0 and j==0) for i,j in zip(season, season[1:])):\n",
    "            count +=1\n",
    "    return (\"{0:.3}%\".format((count / number_season)*100))"
   ]
  },
  {
   "cell_type": "code",
   "execution_count": 72,
   "metadata": {},
   "outputs": [
    {
     "name": "stdout",
     "output_type": "stream",
     "text": [
      "1.28%\n"
     ]
    }
   ],
   "source": [
    "print(simul_method(82, 0.75, 1000000))"
   ]
  },
  {
   "cell_type": "markdown",
   "metadata": {},
   "source": [
    "As a conclusion, we see that both solutions are almost identical. \n",
    "\n",
    "- The pure stat approach is going to give the exact answer, but it is not trivial to model nor understand.\n",
    "- The simulation provides a very good estimation and is easier to understand"
   ]
  }
 ],
 "metadata": {
  "kernelspec": {
   "display_name": "Python 3",
   "language": "python",
   "name": "python3"
  },
  "language_info": {
   "codemirror_mode": {
    "name": "ipython",
    "version": 3
   },
   "file_extension": ".py",
   "mimetype": "text/x-python",
   "name": "python",
   "nbconvert_exporter": "python",
   "pygments_lexer": "ipython3",
   "version": "3.6.1"
  }
 },
 "nbformat": 4,
 "nbformat_minor": 2
}
